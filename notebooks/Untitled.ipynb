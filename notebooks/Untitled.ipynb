{
 "cells": [
  {
   "cell_type": "code",
   "execution_count": 2,
   "id": "5e2a0cf2",
   "metadata": {},
   "outputs": [],
   "source": [
    "import requests\n",
    "import pandas as pd"
   ]
  },
  {
   "cell_type": "code",
   "execution_count": 5,
   "id": "262e6f51",
   "metadata": {},
   "outputs": [],
   "source": [
    "BASE_URI = 'https://re.jrc.ec.europa.eu/'"
   ]
  },
  {
   "cell_type": "code",
   "execution_count": null,
   "id": "2a9bdab9",
   "metadata": {},
   "outputs": [],
   "source": [
    "url = 'https://re.jrc.ec.europa.eu/api/MRcalc'?lat=45&lon=8&horirrad=1"
   ]
  },
  {
   "cell_type": "code",
   "execution_count": 36,
   "id": "d3010dfd",
   "metadata": {},
   "outputs": [],
   "source": [
    "def get_data(query, database = '/MRcalc'):\n",
    "# response = requests.get(BASE_URI + '/api' + database + query)\n",
    "    response = requests.get(BASE_URI + '/api' + database, params=query)\n",
    "    return response.json()"
   ]
  },
  {
   "cell_type": "code",
   "execution_count": 33,
   "id": "6d7f46a8",
   "metadata": {},
   "outputs": [],
   "source": [
    "query = {\n",
    "    'lat' : 45,\n",
    "    'lon' : 8,\n",
    "    'horirrad' : 1,\n",
    "    'outputformat': 'json'\n",
    "}"
   ]
  },
  {
   "cell_type": "code",
   "execution_count": 38,
   "id": "1c282f7e",
   "metadata": {},
   "outputs": [],
   "source": [
    "data = get_data(query)"
   ]
  },
  {
   "cell_type": "code",
   "execution_count": 39,
   "id": "768a1c7a",
   "metadata": {},
   "outputs": [
    {
     "data": {
      "text/plain": [
       "dict_keys(['inputs', 'outputs', 'meta'])"
      ]
     },
     "execution_count": 39,
     "metadata": {},
     "output_type": "execute_result"
    }
   ],
   "source": [
    "data.keys()"
   ]
  },
  {
   "cell_type": "code",
   "execution_count": 55,
   "id": "321d0083",
   "metadata": {},
   "outputs": [],
   "source": [
    "monthly = data['outputs']['monthly']"
   ]
  },
  {
   "cell_type": "code",
   "execution_count": 58,
   "id": "7d9162ab",
   "metadata": {},
   "outputs": [
    {
     "data": {
      "text/plain": [
       "[{'year': 2005, 'month': 1, 'H(h)_m': 57.77},\n",
       " {'year': 2005, 'month': 2, 'H(h)_m': 77.76},\n",
       " {'year': 2005, 'month': 3, 'H(h)_m': 120.58},\n",
       " {'year': 2005, 'month': 4, 'H(h)_m': 133.31},\n",
       " {'year': 2005, 'month': 5, 'H(h)_m': 195.3},\n",
       " {'year': 2005, 'month': 6, 'H(h)_m': 212.63},\n",
       " {'year': 2005, 'month': 7, 'H(h)_m': 218.83},\n",
       " {'year': 2005, 'month': 8, 'H(h)_m': 181.94},\n",
       " {'year': 2005, 'month': 9, 'H(h)_m': 117.98},\n",
       " {'year': 2005, 'month': 10, 'H(h)_m': 75.09},\n",
       " {'year': 2005, 'month': 11, 'H(h)_m': 43.49},\n",
       " {'year': 2005, 'month': 12, 'H(h)_m': 40.47},\n",
       " {'year': 2006, 'month': 1, 'H(h)_m': 51.23},\n",
       " {'year': 2006, 'month': 2, 'H(h)_m': 59.48},\n",
       " {'year': 2006, 'month': 3, 'H(h)_m': 119.48},\n",
       " {'year': 2006, 'month': 4, 'H(h)_m': 147.89},\n",
       " {'year': 2006, 'month': 5, 'H(h)_m': 167.98},\n",
       " {'year': 2006, 'month': 6, 'H(h)_m': 215.88},\n",
       " {'year': 2006, 'month': 7, 'H(h)_m': 228.02},\n",
       " {'year': 2006, 'month': 8, 'H(h)_m': 186.78},\n",
       " {'year': 2006, 'month': 9, 'H(h)_m': 129.21},\n",
       " {'year': 2006, 'month': 10, 'H(h)_m': 91.44},\n",
       " {'year': 2006, 'month': 11, 'H(h)_m': 51.41},\n",
       " {'year': 2006, 'month': 12, 'H(h)_m': 38.11},\n",
       " {'year': 2007, 'month': 1, 'H(h)_m': 46.63},\n",
       " {'year': 2007, 'month': 2, 'H(h)_m': 67.08},\n",
       " {'year': 2007, 'month': 3, 'H(h)_m': 120.21},\n",
       " {'year': 2007, 'month': 4, 'H(h)_m': 174.47},\n",
       " {'year': 2007, 'month': 5, 'H(h)_m': 187.82},\n",
       " {'year': 2007, 'month': 6, 'H(h)_m': 197.47},\n",
       " {'year': 2007, 'month': 7, 'H(h)_m': 237.51},\n",
       " {'year': 2007, 'month': 8, 'H(h)_m': 172.26},\n",
       " {'year': 2007, 'month': 9, 'H(h)_m': 147.11},\n",
       " {'year': 2007, 'month': 10, 'H(h)_m': 95.72},\n",
       " {'year': 2007, 'month': 11, 'H(h)_m': 59.61},\n",
       " {'year': 2007, 'month': 12, 'H(h)_m': 45.07},\n",
       " {'year': 2008, 'month': 1, 'H(h)_m': 42.21},\n",
       " {'year': 2008, 'month': 2, 'H(h)_m': 72.99},\n",
       " {'year': 2008, 'month': 3, 'H(h)_m': 127.71},\n",
       " {'year': 2008, 'month': 4, 'H(h)_m': 132.9},\n",
       " {'year': 2008, 'month': 5, 'H(h)_m': 164.56},\n",
       " {'year': 2008, 'month': 6, 'H(h)_m': 181.47},\n",
       " {'year': 2008, 'month': 7, 'H(h)_m': 209.58},\n",
       " {'year': 2008, 'month': 8, 'H(h)_m': 186.3},\n",
       " {'year': 2008, 'month': 9, 'H(h)_m': 123.83},\n",
       " {'year': 2008, 'month': 10, 'H(h)_m': 81.45},\n",
       " {'year': 2008, 'month': 11, 'H(h)_m': 43.31},\n",
       " {'year': 2008, 'month': 12, 'H(h)_m': 34.16},\n",
       " {'year': 2009, 'month': 1, 'H(h)_m': 44.83},\n",
       " {'year': 2009, 'month': 2, 'H(h)_m': 77.63},\n",
       " {'year': 2009, 'month': 3, 'H(h)_m': 119.11},\n",
       " {'year': 2009, 'month': 4, 'H(h)_m': 124.89},\n",
       " {'year': 2009, 'month': 5, 'H(h)_m': 204.19},\n",
       " {'year': 2009, 'month': 6, 'H(h)_m': 220.87},\n",
       " {'year': 2009, 'month': 7, 'H(h)_m': 227.17},\n",
       " {'year': 2009, 'month': 8, 'H(h)_m': 191.35},\n",
       " {'year': 2009, 'month': 9, 'H(h)_m': 133.32},\n",
       " {'year': 2009, 'month': 10, 'H(h)_m': 92.91},\n",
       " {'year': 2009, 'month': 11, 'H(h)_m': 35.82},\n",
       " {'year': 2009, 'month': 12, 'H(h)_m': 36.01},\n",
       " {'year': 2010, 'month': 1, 'H(h)_m': 42.18},\n",
       " {'year': 2010, 'month': 2, 'H(h)_m': 57.44},\n",
       " {'year': 2010, 'month': 3, 'H(h)_m': 100.11},\n",
       " {'year': 2010, 'month': 4, 'H(h)_m': 155.76},\n",
       " {'year': 2010, 'month': 5, 'H(h)_m': 174.43},\n",
       " {'year': 2010, 'month': 6, 'H(h)_m': 196.79},\n",
       " {'year': 2010, 'month': 7, 'H(h)_m': 228.31},\n",
       " {'year': 2010, 'month': 8, 'H(h)_m': 180.89},\n",
       " {'year': 2010, 'month': 9, 'H(h)_m': 135.1},\n",
       " {'year': 2010, 'month': 10, 'H(h)_m': 78.48},\n",
       " {'year': 2010, 'month': 11, 'H(h)_m': 36.6},\n",
       " {'year': 2010, 'month': 12, 'H(h)_m': 37.69},\n",
       " {'year': 2011, 'month': 1, 'H(h)_m': 45.06},\n",
       " {'year': 2011, 'month': 2, 'H(h)_m': 69.41},\n",
       " {'year': 2011, 'month': 3, 'H(h)_m': 111.13},\n",
       " {'year': 2011, 'month': 4, 'H(h)_m': 173.79},\n",
       " {'year': 2011, 'month': 5, 'H(h)_m': 214.53},\n",
       " {'year': 2011, 'month': 6, 'H(h)_m': 176.24},\n",
       " {'year': 2011, 'month': 7, 'H(h)_m': 208.9},\n",
       " {'year': 2011, 'month': 8, 'H(h)_m': 203.62},\n",
       " {'year': 2011, 'month': 9, 'H(h)_m': 144.98},\n",
       " {'year': 2011, 'month': 10, 'H(h)_m': 98.47},\n",
       " {'year': 2011, 'month': 11, 'H(h)_m': 50.98},\n",
       " {'year': 2011, 'month': 12, 'H(h)_m': 52.82},\n",
       " {'year': 2012, 'month': 1, 'H(h)_m': 49.68},\n",
       " {'year': 2012, 'month': 2, 'H(h)_m': 65.5},\n",
       " {'year': 2012, 'month': 3, 'H(h)_m': 139.98},\n",
       " {'year': 2012, 'month': 4, 'H(h)_m': 127.86},\n",
       " {'year': 2012, 'month': 5, 'H(h)_m': 193.79},\n",
       " {'year': 2012, 'month': 6, 'H(h)_m': 206.53},\n",
       " {'year': 2012, 'month': 7, 'H(h)_m': 226.0},\n",
       " {'year': 2012, 'month': 8, 'H(h)_m': 186.45},\n",
       " {'year': 2012, 'month': 9, 'H(h)_m': 116.26},\n",
       " {'year': 2012, 'month': 10, 'H(h)_m': 81.54},\n",
       " {'year': 2012, 'month': 11, 'H(h)_m': 51.72},\n",
       " {'year': 2012, 'month': 12, 'H(h)_m': 44.68},\n",
       " {'year': 2013, 'month': 1, 'H(h)_m': 45.18},\n",
       " {'year': 2013, 'month': 2, 'H(h)_m': 60.35},\n",
       " {'year': 2013, 'month': 3, 'H(h)_m': 85.36},\n",
       " {'year': 2013, 'month': 4, 'H(h)_m': 118.07},\n",
       " {'year': 2013, 'month': 5, 'H(h)_m': 172.89},\n",
       " {'year': 2013, 'month': 6, 'H(h)_m': 212.15},\n",
       " {'year': 2013, 'month': 7, 'H(h)_m': 220.15},\n",
       " {'year': 2013, 'month': 8, 'H(h)_m': 199.19},\n",
       " {'year': 2013, 'month': 9, 'H(h)_m': 134.51},\n",
       " {'year': 2013, 'month': 10, 'H(h)_m': 52.37},\n",
       " {'year': 2013, 'month': 11, 'H(h)_m': 49.52},\n",
       " {'year': 2013, 'month': 12, 'H(h)_m': 46.58},\n",
       " {'year': 2014, 'month': 1, 'H(h)_m': 40.96},\n",
       " {'year': 2014, 'month': 2, 'H(h)_m': 53.91},\n",
       " {'year': 2014, 'month': 3, 'H(h)_m': 125.39},\n",
       " {'year': 2014, 'month': 4, 'H(h)_m': 146.46},\n",
       " {'year': 2014, 'month': 5, 'H(h)_m': 194.06},\n",
       " {'year': 2014, 'month': 6, 'H(h)_m': 199.19},\n",
       " {'year': 2014, 'month': 7, 'H(h)_m': 189.51},\n",
       " {'year': 2014, 'month': 8, 'H(h)_m': 169.23},\n",
       " {'year': 2014, 'month': 9, 'H(h)_m': 135.0},\n",
       " {'year': 2014, 'month': 10, 'H(h)_m': 79.6},\n",
       " {'year': 2014, 'month': 11, 'H(h)_m': 37.86},\n",
       " {'year': 2014, 'month': 12, 'H(h)_m': 41.52},\n",
       " {'year': 2015, 'month': 1, 'H(h)_m': 54.16},\n",
       " {'year': 2015, 'month': 2, 'H(h)_m': 60.96},\n",
       " {'year': 2015, 'month': 3, 'H(h)_m': 117.3},\n",
       " {'year': 2015, 'month': 4, 'H(h)_m': 159.92},\n",
       " {'year': 2015, 'month': 5, 'H(h)_m': 187.86},\n",
       " {'year': 2015, 'month': 6, 'H(h)_m': 207.82},\n",
       " {'year': 2015, 'month': 7, 'H(h)_m': 230.55},\n",
       " {'year': 2015, 'month': 8, 'H(h)_m': 179.7},\n",
       " {'year': 2015, 'month': 9, 'H(h)_m': 126.07},\n",
       " {'year': 2015, 'month': 10, 'H(h)_m': 76.78},\n",
       " {'year': 2015, 'month': 11, 'H(h)_m': 63.82},\n",
       " {'year': 2015, 'month': 12, 'H(h)_m': 43.32},\n",
       " {'year': 2016, 'month': 1, 'H(h)_m': 53.08},\n",
       " {'year': 2016, 'month': 2, 'H(h)_m': 61.03},\n",
       " {'year': 2016, 'month': 3, 'H(h)_m': 122.69},\n",
       " {'year': 2016, 'month': 4, 'H(h)_m': 152.12},\n",
       " {'year': 2016, 'month': 5, 'H(h)_m': 173.28},\n",
       " {'year': 2016, 'month': 6, 'H(h)_m': 193.33},\n",
       " {'year': 2016, 'month': 7, 'H(h)_m': 209.85},\n",
       " {'year': 2016, 'month': 8, 'H(h)_m': 197.19},\n",
       " {'year': 2016, 'month': 9, 'H(h)_m': 140.35},\n",
       " {'year': 2016, 'month': 10, 'H(h)_m': 81.28},\n",
       " {'year': 2016, 'month': 11, 'H(h)_m': 48.66},\n",
       " {'year': 2016, 'month': 12, 'H(h)_m': 47.68}]"
      ]
     },
     "execution_count": 58,
     "metadata": {},
     "output_type": "execute_result"
    }
   ],
   "source": [
    "data['outputs']['monthly']"
   ]
  },
  {
   "cell_type": "code",
   "execution_count": 56,
   "id": "0caadcf6",
   "metadata": {},
   "outputs": [],
   "source": [
    "avg_month_prod = sum([month['H(h)_m'] for month in monthly])/len(monthly)"
   ]
  },
  {
   "cell_type": "code",
   "execution_count": 57,
   "id": "3ba5daa3",
   "metadata": {},
   "outputs": [
    {
     "data": {
      "text/plain": [
       "122.79930555555552"
      ]
     },
     "execution_count": 57,
     "metadata": {},
     "output_type": "execute_result"
    }
   ],
   "source": [
    "avg_month_prod"
   ]
  },
  {
   "cell_type": "markdown",
   "id": "bf4360a3",
   "metadata": {},
   "source": [
    "## PV revenue and costs\n",
    "- Global horizontal irradiation\t\n",
    "This value is the monthly sum of the solar radiation energy that hits one square meter of a horizontal plane, measured in kWh/m2.\n"
   ]
  },
  {
   "cell_type": "code",
   "execution_count": null,
   "id": "5a3a01c4",
   "metadata": {},
   "outputs": [],
   "source": []
  }
 ],
 "metadata": {
  "kernelspec": {
   "display_name": "Python 3 (ipykernel)",
   "language": "python",
   "name": "python3"
  },
  "language_info": {
   "codemirror_mode": {
    "name": "ipython",
    "version": 3
   },
   "file_extension": ".py",
   "mimetype": "text/x-python",
   "name": "python",
   "nbconvert_exporter": "python",
   "pygments_lexer": "ipython3",
   "version": "3.8.13"
  },
  "toc": {
   "base_numbering": 1,
   "nav_menu": {},
   "number_sections": true,
   "sideBar": true,
   "skip_h1_title": false,
   "title_cell": "Table of Contents",
   "title_sidebar": "Contents",
   "toc_cell": false,
   "toc_position": {},
   "toc_section_display": true,
   "toc_window_display": false
  }
 },
 "nbformat": 4,
 "nbformat_minor": 5
}
