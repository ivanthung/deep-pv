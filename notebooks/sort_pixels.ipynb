{
 "cells": [
  {
   "cell_type": "code",
   "execution_count": 2,
   "id": "45c9d5e3",
   "metadata": {},
   "outputs": [],
   "source": [
    "import math\n",
    "import numpy as np"
   ]
  },
  {
   "cell_type": "code",
   "execution_count": 4,
   "id": "e9661627",
   "metadata": {},
   "outputs": [],
   "source": [
    "def deg2num(lat_deg, lon_deg, zoom=21):\n",
    "    lat_rad = math.radians(lat_deg)\n",
    "    n = 2.0 ** (zoom-1)\n",
    "    xtile = int((lon_deg + 180.0) / 360.0 * n)\n",
    "    ytile = int((1.0 - math.asinh(math.tan(lat_rad)) / math.pi) / 2.0 * n)\n",
    "    return (xtile, ytile)\n",
    "\n",
    "def num2deg(xtile, ytile, zoom=21):\n",
    "    n = 2.0 ** (zoom-1)\n",
    "    lon_deg = xtile / n * 360.0 - 180.0\n",
    "    lat_rad = math.atan(math.sinh(math.pi * (1 - 2 * ytile / n)))\n",
    "    lat_deg = math.degrees(lat_rad)\n",
    "    return (lat_deg, lon_deg)\n",
    "\n",
    "def center_input_deg(lat,long,zoom=21):\n",
    "    nums = deg2num(lat, long, zoom)\n",
    "    return num2deg(nums[0]+0.5, nums[1]+0.5, zoom)"
   ]
  },
  {
   "cell_type": "code",
   "execution_count": 1,
   "id": "e13250a4",
   "metadata": {},
   "outputs": [],
   "source": [
    "latitude, longitude = 51.3, 46.2"
   ]
  },
  {
   "cell_type": "code",
   "execution_count": 8,
   "id": "12b66170",
   "metadata": {},
   "outputs": [],
   "source": [
    "lat, long = center_input_deg(latitude, longitude)"
   ]
  },
  {
   "cell_type": "code",
   "execution_count": 39,
   "id": "b51c10b0",
   "metadata": {},
   "outputs": [],
   "source": [
    "def get_coords(lat_deg, lon_deg, zoom = 21, size = 4):\n",
    "    (x,y) = deg2num(lat_deg, lon_deg, zoom)\n",
    "    return ([num2deg(x + i - size//2+0.5,\n",
    "                     y + j - size//2+0.5, zoom)\n",
    "                     for j in range(size)\n",
    "                     for i in range(size)])"
   ]
  },
  {
   "cell_type": "code",
   "execution_count": 40,
   "id": "7cf0870c",
   "metadata": {},
   "outputs": [
    {
     "data": {
      "text/plain": [
       "[(51.3004621142536, 46.199398040771484),\n",
       " (51.3004621142536, 46.19974136352539),\n",
       " (51.3004621142536, 46.2000846862793),\n",
       " (51.3004621142536, 46.2004280090332),\n",
       " (51.300247455882094, 46.199398040771484),\n",
       " (51.300247455882094, 46.19974136352539),\n",
       " (51.300247455882094, 46.2000846862793),\n",
       " (51.300247455882094, 46.2004280090332),\n",
       " (51.30003279650675, 46.199398040771484),\n",
       " (51.30003279650675, 46.19974136352539),\n",
       " (51.30003279650675, 46.2000846862793),\n",
       " (51.30003279650675, 46.2004280090332),\n",
       " (51.29981813612757, 46.199398040771484),\n",
       " (51.29981813612757, 46.19974136352539),\n",
       " (51.29981813612757, 46.2000846862793),\n",
       " (51.29981813612757, 46.2004280090332)]"
      ]
     },
     "execution_count": 40,
     "metadata": {},
     "output_type": "execute_result"
    }
   ],
   "source": [
    "get_coords(lat,long)"
   ]
  },
  {
   "cell_type": "code",
   "execution_count": 41,
   "id": "2f0ac047",
   "metadata": {},
   "outputs": [
    {
     "name": "stdout",
     "output_type": "stream",
     "text": [
      "51.300462 46.199398\n",
      "51.300462 46.199741\n",
      "51.300462 46.200085\n",
      "51.300462 46.200428\n",
      "51.300247 46.199398\n",
      "51.300247 46.199741\n",
      "51.300247 46.200085\n",
      "51.300247 46.200428\n",
      "51.300033 46.199398\n",
      "51.300033 46.199741\n",
      "51.300033 46.200085\n",
      "51.300033 46.200428\n",
      "51.299818 46.199398\n",
      "51.299818 46.199741\n",
      "51.299818 46.200085\n",
      "51.299818 46.200428\n"
     ]
    }
   ],
   "source": [
    "for la, lo in get_coords(lat,long):\n",
    "    la, lo = round(la,6),round(lo,6)\n",
    "    print(la, lo)"
   ]
  },
  {
   "cell_type": "code",
   "execution_count": null,
   "id": "46b9de8c",
   "metadata": {},
   "outputs": [],
   "source": []
  }
 ],
 "metadata": {
  "kernelspec": {
   "display_name": "Python 3 (ipykernel)",
   "language": "python",
   "name": "python3"
  },
  "language_info": {
   "codemirror_mode": {
    "name": "ipython",
    "version": 3
   },
   "file_extension": ".py",
   "mimetype": "text/x-python",
   "name": "python",
   "nbconvert_exporter": "python",
   "pygments_lexer": "ipython3",
   "version": "3.7.13"
  },
  "toc": {
   "base_numbering": 1,
   "nav_menu": {},
   "number_sections": true,
   "sideBar": true,
   "skip_h1_title": false,
   "title_cell": "Table of Contents",
   "title_sidebar": "Contents",
   "toc_cell": false,
   "toc_position": {},
   "toc_section_display": true,
   "toc_window_display": false
  }
 },
 "nbformat": 4,
 "nbformat_minor": 5
}
